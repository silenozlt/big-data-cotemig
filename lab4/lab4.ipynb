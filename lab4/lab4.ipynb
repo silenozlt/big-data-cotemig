{
 "cells": [
  {
   "cell_type": "markdown",
   "metadata": {},
   "source": [
    "# Lab 4: Programação Funcional"
   ]
  },
  {
   "cell_type": "markdown",
   "metadata": {},
   "source": [
    "## Overview\n",
    "\n",
    "Neste laboratório, você explorará o lugar da programação funcional no cenário do Python e ganhará experiência com ferramentas poderosas como map,filter, iterators, generators e decorators."
   ]
  },
  {
   "cell_type": "markdown",
   "metadata": {},
   "source": [
    "## Ferramentas Funcionais"
   ]
  },
  {
   "cell_type": "markdown",
   "metadata": {},
   "source": [
    "### Lambdas\n",
    "\n",
    "Lembre-se de que as funções lambda são funções sem nome (anônimas) criados na hora, geralmente para realizar uma pequena transformação. Por exemplo,\n",
    "\n",
    "```Python\n",
    "(lambda val: val ** 2)(5)  # => 25\n",
    "(lambda x, y: x * y)(3, 8)  # => 24\n",
    "(lambda s: s.strip().lower()[:2])('  PyTHon')  # => 'py'\n",
    "```\n",
    "Sozinhas, funções `lambda`s não são particularmente úteis, como demonstrado acima, e quase nunca são criadas e invocados diretamente como mostrado. Usualmente, funções `lambda`s são usadas para evitar a criação de uma função formal definitiva para pequenas funções descartáveis, não apenas porque elas envolvem menos digitação (nenhuma declaração` def` ou `return` necessária), mas também, e talvez mais importante, porque essas pequenas funções não poluirão o namespace envolvente e fornecerão a implementação da função na mesma linha.\n",
    "\n",
    "Lambdas também são freqüentemente usados como argumentos ou retornos de funções de alta-ordem, como `map` e` filter`.\n",
    "\n",
    "*(Funções que operam sobre outras funções, seja tomando-as como argumentos ou retornando-as, são chamadas de funções de alta-ordem).*"
   ]
  },
  {
   "cell_type": "markdown",
   "metadata": {},
   "source": [
    "### Map\n",
    "\n",
    "Lembre-se da aula que `map(func, iterable)` aplica uma função sobre elementos de um iterável.\n",
    "\n",
    "Para cada uma das seguintes linhas, escreva uma única instrução usando `map` que converte a coluna da esquerda na coluna da direita:\n",
    "\n",
    "| From  | To| \n",
    "| --- | --- | \n",
    "| `['12', '-2', '0']` | `[12, -2, 0]` |\n",
    "| `['hello', 'world']`  | `[5, 5]` |\n",
    "| `['hello', 'world']`|`['olleh', 'dlrow']` |\n",
    "| `range(2, 6)`|`[(2, 4, 8), (3, 9, 27), (4, 16, 64), (5, 25, 125)]` |\n",
    "| `zip(range(2, 5), range(3, 9, 2))`|`[6, 15, 28]` |\n",
    "\n",
    "*Dica: você pode precisar envolver a saída em um construtor `list ()` para vê-la impressa no console - isto é, `list (map (..., ...))`*"
   ]
  },
  {
   "cell_type": "code",
   "execution_count": null,
   "metadata": {},
   "outputs": [],
   "source": [
    "# Write `map` expressions to convert the following inputs into the indicated outputs.\n",
    "# ['12', '-2', '0'] --> [12, -2, 0]\n",
    "\n",
    "# ['hello', 'world'] --> [5, 5]\n",
    "\n",
    "# ['hello', 'world']` --> ['olleh', 'dlrow']\n",
    "\n",
    "# range(2, 6) --> [(2, 4, 8), (3, 9, 27), (4, 16, 64), (5, 25, 125)]\n",
    "\n",
    "# zip(range(2, 5), range(3, 9, 2)) --> [6, 15, 28]\n"
   ]
  },
  {
   "cell_type": "markdown",
   "metadata": {},
   "source": [
    "#### Usando vários iteráveis\n",
    "\n",
    "A função `map` pode aceitar um número variável de iteráveis como argumentos. Assim, `map (func, iterA, iterB, iterC)` é equivalente a `map (func, zip (iterA, iterB, iterC))`. Isso pode ser usado da seguinte maneira:\n",
    "\n",
    "```Python\n",
    "map(int, ('101001', '0xCAFE', '42'), (2, 16, 10))  # generates 41, 51966, 42\n",
    "```\n",
    "\n",
    "Para gerar cada um destes elementos, o Python irá avaliar: `int ('10110', 2)`, então `int ('0xCAFE', 16)`, e finalmente `int ('42 ', 10)`.\n",
    "\n",
    "*Isso funciona porque * `int` * recebe um segundo argumento opcional, especificando a base de conversão*"
   ]
  },
  {
   "cell_type": "markdown",
   "metadata": {},
   "source": [
    "### Filter\n",
    "\n",
    "Lembre-se da aula que `filter (pred, iterable)` mantém apenas os elementos de um iterável que satisfazem uma função de predicado.\n",
    "\n",
    "Escreva instruções usando `filter` que convertem as seguintes sequências da coluna da esquerda para a coluna da direita:\n",
    "\n",
    "From  | To\n",
    "--- | ---\n",
    "`['12', '-2', '0']` | `['12', '0']`\n",
    "`['hello', 'world']`  | `['world']`\n",
    "`['Stanford', 'Cal', 'UCLA']`|`['Stanford']`\n",
    "`range(20)`|`[0, 3, 5, 6, 9, 10, 12, 15, 18]`\n",
    "\n",
    "Como antes, você pode ter que quebrar o resultado em uma chamada para `list (...)` para produzir a saída filtrada."
   ]
  },
  {
   "cell_type": "code",
   "execution_count": null,
   "metadata": {},
   "outputs": [],
   "source": [
    "# Write `filter` expressions to convert the following inputs into the indicated outputs.\n",
    "# ['12', '-2', '0'] --> ['12', '0']\n",
    "\n",
    "# ['hello', 'world'] --> ['world']\n",
    "\n",
    "# ['Stanford', 'Cal', 'UCLA'] --> ['Stanford']\n",
    "\n",
    "# range(20) --> [0, 3, 5, 6, 9, 10, 12, 15, 18]\n"
   ]
  },
  {
   "cell_type": "markdown",
   "metadata": {},
   "source": [
    "### Ferramentas úteis da biblioteca padrão"
   ]
  },
  {
   "cell_type": "markdown",
   "metadata": {},
   "source": [
    "#### Módulo: `functools`\n",
    "\n",
    "O módulo `functools` é um módulo da biblioteca padrão\" para funções de ordem superior; funções que atuam ou retornam outras funções. \"\n",
    "\n",
    "Existe um utilitário no módulo `functools` chamado` reduce`, que no Python 2.x era um recurso nativo da linguagem, mas desde então foi movido para este módulo. A função `reduce` é melhor explicada pela [documentação oficial](https://docs.python.org/3/library/functools.html#functools.reduce):\n",
    "\n",
    "##### `functools.reduce(function, iterable[, initializer])`\n",
    "\n",
    "> Aplique `function` de dois argumentos cumulativamente aos itens do` iterable`, da esquerda para a direita, de modo a reduzir o iterável para um valor único. Por exemplo, `functools.reduce (lambda x, y: x + y, [1, 2, 3, 4, 5])` calcula `((((1 + 2) + 3) + 4) + 5)` . O argumento da esquerda, `x`, é o valor acumulado e o argumento da direita,` y`, é o valor de atualização da sequência. Se o `initializer` opcional estiver presente, ele é colocado antes dos itens da sequência no cálculo e serve como padrão quando o iterável está vazio. Se `initializer` não é dado e` iterable` contém apenas um item, o primeiro item é retornado.\n",
    "\n",
    "Use a função `reduce` para criar uma função que receba uma quantidade arbitrária de argumentos. Isso pode ser feito em uma linha do Python. Se nenhum número for fornecido para a função, você poderá retornar o valor 0."
   ]
  },
  {
   "cell_type": "code",
   "execution_count": null,
   "metadata": {},
   "outputs": [],
   "source": [
    "from functools import reduce\n",
    "\n",
    "def reduce_sum(*nums):\n",
    "    pass # Your implementation here. Use `reduce`. This function can be implemented in only one line!\n",
    "\n",
    "print(reduce_sum(3, 5))\n",
    "print(reduce_sum(41, 106, 12))\n",
    "print(reduce_sum(1, 2, 6, 24, 120, 720))\n",
    "print(reduce_sum(3))\n",
    "print(reduce_sum())"
   ]
  },
  {
   "cell_type": "markdown",
   "metadata": {},
   "source": [
    "#### Módulo: `operator`\n",
    "\n",
    "Freqüentemente, você pode se encontrar escrevendo funções anônimas semelhantes a `lambda x, y: x + y`. Isso parece um pouco redundante, já que o Python já sabe como adicionar dois valores juntos. Infelizmente, não podemos nos referir a `+` como uma função - é um elemento de sintaxe embutido. Para resolver este problema, o módulo `operator` exporta as funções que podem ser chamadas para cada operação integrada. Esses operadores podem simplificar alguns usos comuns de lambdas e devem ser usados sempre que possível, já que em quase todos os casos eles são mais rápidos do que construir e invocar repetidamente uma função lambda.\n",
    "\n",
    "\n",
    "```Python\n",
    "import operator\n",
    "operator.add(1, 2)  # => 3\n",
    "operator.mul(3, 10)  # => 30\n",
    "operator.pow(2, 3)  # => 8\n",
    "operator.itemgetter(1)([1, 2, 3]) # => 2\n",
    "```\n",
    "\n",
    "Reserve um momento para examinar a [documentação oficial do módulo `operator`](https://docs.python.org/3/library/operator.html).\n",
    "\n",
    "Em seguida, use `reduce` em conjunto com uma função do módulo` operator` para calcular os fatoriais em uma linha do Python. Por exemplo, para calcular `5!`, Tente computar `(((1 * 2) * 3) * 4) * 5` usando` reduce` e o módulo `operator`!"
   ]
  },
  {
   "cell_type": "code",
   "execution_count": 8,
   "metadata": {},
   "outputs": [],
   "source": [
    "import operator\n",
    "from functools import reduce\n",
    "\n",
    "def fact(n):\n",
    "    \"\"\"Return the factorial of a positive number.\"\"\"\n",
    "    # Your implementation here: Use reduce, an operator, and only one line!\n",
    "\n",
    "fact(3)  # => 6\n",
    "fact(7)  # => 5040"
   ]
  },
  {
   "cell_type": "markdown",
   "metadata": {},
   "source": [
    "#### Comparação personalizada para `sort`, `max`, and `min`\n",
    "\n",
    "Ao ordenar sequências ou encontrar o maior ou o menor elemento de uma sequência, o Python usa como padrão uma ordenação padrão para elementos de sequência de certos tipos. Por exemplo, uma coleção de strings será ordenada alfabeticamente (por valor ASCII), e uma coleção de tuplas será ordenada lexicograficamente. Às vezes, no entanto, precisamos classificar com base em um valor de chave personalizado. Em Python, podemos fornecer um argumento `key` opcional para `sorted(seq)`, `max(seq)`, `min(seq)`, ou `seq.sort()` para determinar os valores usados para ordenar elementos em uma seqüência.\n",
    "\n",
    "Leia os exemplos de código a seguir e veja se você pode justificar ao seu colega por que o Python produz as respostas que ele faz nesses casos.\n",
    "\n",
    "```Python\n",
    "words = ['pear', 'cabbage', 'apple', 'bananas']\n",
    "min(words)  # => 'apple'\n",
    "words.sort(key=lambda s: s[-1])  # Alternatively, key=operator.itemgetter(-1)\n",
    "words  # => ['cabbage', 'apple', 'pear', 'bananas'] ... Why 'cabbage' > 'apple'?\n",
    "max(words, key=len)  # 'cabbage' ... Why not 'bananas'?\n",
    "min(words, key=lambda s: s[1::2])  # What will this value be?\n",
    "```\n",
    "\n",
    "Em seguida, escreva uma função para retornar as duas palavras com a maior pontuação alfanumérica de letras maiúsculas. Fornecemos uma função que calcula a pontuação alfanumérica das letras fornecidas, que deve ser uma string contendo apenas letras maiúsculas. Você pode querer usar `filter` em conjunto com quaisquer outras funções que vimos."
   ]
  },
  {
   "cell_type": "code",
   "execution_count": null,
   "metadata": {},
   "outputs": [],
   "source": [
    "def alpha_score(upper_letters):\n",
    "    \"\"\"Return the alphanumeric sum of letters in a string, where A == 1 and Z == 26.\n",
    "    \n",
    "    The argument upper_letters must be composed entirely of capital letters.\n",
    "    \"\"\"\n",
    "    return sum(map(lambda l: 1 + ord(l) - ord('A'), upper_letters))\n",
    "\n",
    "print(alpha_score('ABC'))  # => 6 = 1 ('A') + 2 ('B') + 3 ('C')\n",
    "\n",
    "def two_best(words):\n",
    "    \"\"\"Return the two words whose alphanumeric score of uppercase letters is the highest.\"\"\"\n",
    "    pass  # Your implementation here\n",
    "\n",
    "two_best(['hEllO', 'wOrLD', 'i', 'aM', 'PyThOn'])"
   ]
  },
  {
   "cell_type": "markdown",
   "metadata": {},
   "source": [
    "## Programação Puramente Funcional (opcional)\n",
    "\n",
    "Como um exercício de pensamento acadêmico, vamos investigar como usaríamos o Python em um paradigma de programação puramente funcional. Por fim, tentaremos remover instruções e substituí-las por expressões."
   ]
  },
  {
   "cell_type": "markdown",
   "metadata": {},
   "source": [
    "### Substituindo o fluxo de controle\n",
    "\n",
    "A primeira coisa que precisa ser substituídas são as instruções de fluxo de controle - `if / elif / else`. Felizmente, o Python, como muitas outras linguagens, expressa booleano em curtos-circuitos. Isso significa que podemos reescrever\n",
    "\n",
    "```Python\n",
    "if <cond1>:   func1()\n",
    "elif <cond2>: func2()\n",
    "else:         func3()\n",
    "```\n",
    "\n",
    "como a expressão equivalente\n",
    "\n",
    "```Python\n",
    "(<cond1> and func1()) or (<cond2> and func2()) or (func3())\n",
    "```\n",
    "\n",
    "Lembrando as regras do Python para expressões booleanas de curto-circuito, por que a expressão acima (geralmente) resulta na mesma saída que o caso do fluxo de controle de procedimento?\n",
    "\n",
    "Nota: O código acima funciona se e somente se todas as funções retornarem valores verdadeiros. Para garantir que essas expressões sejam realmente as mesmas, talvez seja necessário escrever algo como o seguinte, porque todas as tuplas de dois elementos são verdadeiras, independentemente de seu conteúdo.\n",
    "\n",
    "\n",
    "```Python\n",
    "((<cond1> and (func1(), 0)) or (<cond2> and (func1(), 0)) or ((func1(), 0)))[0]\n",
    "```\n",
    "\n",
    "Reescreva o seguinte bloco de código sem usar `if/elif/else`:\n",
    "\n",
    "```Python\n",
    "if score == 1:\n",
    "    return \"Winner\"\n",
    "elif score == -1:\n",
    "    return \"Loser\"\n",
    "else:\n",
    "    return \"Tied\"\n",
    "```"
   ]
  },
  {
   "cell_type": "code",
   "execution_count": null,
   "metadata": {},
   "outputs": [],
   "source": [
    "# Purely-functional control flow.\n",
    "def result(score):\n",
    "    return ...  # Your implementation here."
   ]
  },
  {
   "cell_type": "markdown",
   "metadata": {},
   "source": [
    "### Substituindo Retornos\n",
    "\n",
    "No entanto, na função acima, ainda precisamos de valores de retorno para fazer qualquer coisa útil. Como os lambdas implicitamente retornam sua expressão, usaremos lambdas para eliminar declarações de retorno. Podemos vincular nossas expressões e condicionais a uma função lambda.\n",
    "\n",
    "```Python\n",
    "echo = lambda arg: arg  # In practice, you should never bind lambdas to local names\n",
    "cond_fn = lambda score: (x==1 and echo(\"one\")) \\\n",
    "                 or (x==2 and echo(\"two\")) \\\n",
    "                 or (echo(\"other\"))\n",
    "```\n",
    "Agora, nos livramos de ter que usar a palavra-chave `return`."
   ]
  },
  {
   "cell_type": "markdown",
   "metadata": {},
   "source": [
    "### Substituindo Loops\n",
    "\n",
    "Livrar-se de loops é fácil! Podemos \"mapear\" sobre uma sequência em vez de percorrer a sequência. Por exemplo:\n",
    "\n",
    "```Python\n",
    "for e in lst:\n",
    "    func(e)\n",
    "```\n",
    "\n",
    "torna-se\n",
    "\n",
    "```Python\n",
    "map(func, lst)\n",
    "```"
   ]
  },
  {
   "cell_type": "markdown",
   "metadata": {},
   "source": [
    "### Substituindo Sequência de Ação\n",
    "\n",
    "A maioria dos programas toma a forma de uma sequência de passos, escritos linha a linha. Usando uma função `just_do_it` e` map`, podemos replicar uma sequência de chamadas de função.\n",
    "\n",
    "```Python\n",
    "just_do_it = lambda f: f()\n",
    "\n",
    "# Suppose f1, f2, f3 are actions\n",
    "map(just_do_it, [f1, f2, f3])\n",
    "```\n",
    "\n",
    "A execução do nosso programa principal pode ser uma única chamada para essa expressão de mapa.\n",
    "\n",
    "\n",
    "#### Note\n",
    "\n",
    "Na verdade, o Python tem as funções `eval` e` exec` construídas, que se comportam um pouco como a nossa função `just_do_it`. Não os use! Eles são perigosos."
   ]
  },
  {
   "cell_type": "markdown",
   "metadata": {},
   "source": [
    "### Resumo\n",
    "Python suporta paradigmas de programação funcional, mas como você pode ver, em alguns casos o FP introduz complexidade desnecessária.\n",
    "\n",
    "Se você realmente gostou desta seção, leia [Part 1](http://www.ibm.com/developerworks/linux/library/l-prog/index.html), [Part 2](http://www.ibm.com/developerworks/linux/library/l-prog2/index.html), e [Part 3](http://www.ibm.com/developerworks/linux/library/l-prog3/index.html) dos artigos da IBM sobre FP em Python.\n"
   ]
  },
  {
   "cell_type": "markdown",
   "metadata": {},
   "source": [
    "## Iterators\n",
    "\n",
    "Lembre-se da aula, iterador é um objeto que representa um fluxo de dados entregues um valor por vez."
   ]
  },
  {
   "cell_type": "markdown",
   "metadata": {},
   "source": [
    "### Consumindo o Iterator\n",
    "\n",
    "Suponha que as duas linhas de código a seguir tenham sido executadas:\n",
    "\n",
    "```Python\n",
    "it = iter(range(100))\n",
    "67 in it  # => True\n",
    "```\n",
    "\n",
    "Qual é o resultado da execução de cada uma das seguintes linhas de código?\n",
    "\n",
    "\n",
    "```Python\n",
    "next(it)  # => ??\n",
    "37 in it  # => ??\n",
    "next(it)  # => ??\n",
    "```\n",
    "\n",
    "Com um parceiro, discuta por que vemos esses resultados."
   ]
  },
  {
   "cell_type": "code",
   "execution_count": null,
   "metadata": {},
   "outputs": [],
   "source": [
    "it = iter(range(100))\n",
    "67 in it  # => True\n",
    "\n",
    "print(next(it))  # => ??\n",
    "print(37 in it)  # => ??\n",
    "print(next(it))  # => ??"
   ]
  },
  {
   "cell_type": "markdown",
   "metadata": {},
   "source": [
    "### Módulo: `itertools`\n",
    "\n",
    "O Python vem com um módulo espetacular para manipular iteradores chamados `itertools`. Reserve um momento para ler a [página de documentação do itertools](https://docs.python.org/3/library/itertools.html).\n",
    "\n",
    "Preveja a saída dos seguintes trechos de código:\n",
    "\n",
    "```Python\n",
    "import itertools\n",
    "import operator\n",
    "\n",
    "for el in itertools.permutations('XKCD', 2):\n",
    "    print(el, end=', ')\n",
    "\n",
    "for el in itertools.cycle('LO'):\n",
    "    print(el, end='')  # Don't run this one. Why not?\n",
    "\n",
    "itertools.starmap(operator.mul, itertools.zip_longest([3,5,7],[2,3], fillvalue=1))\n",
    "```"
   ]
  },
  {
   "cell_type": "code",
   "execution_count": null,
   "metadata": {},
   "outputs": [],
   "source": [
    "import itertools\n",
    "import operator\n",
    "\n",
    "for el in itertools.permutations('XKCD', 2):\n",
    "    print(el, end=', ')\n",
    "print()\n",
    "\n",
    "# for el in itertools.cycle('LO'):\n",
    "#     print(el, end='')  # Don't run this one. Why not?\n",
    "\n",
    "print(list(itertools.starmap(operator.mul, itertools.zip_longest([3,5,7],[2,3], fillvalue=1))))"
   ]
  },
  {
   "cell_type": "markdown",
   "metadata": {},
   "source": [
    "### Álgebra Linear (Desafio)\n",
    "\n",
    "Esses problemas de desafio testam sua capacidade de escrever funções compactas do Python usando as ferramentas de programação funcional e uma boa dose de esperteza. Como sempre, esses problemas de desafio são opcionais e são muito mais difíceis do que o restante do laboratório. Esses problemas de desafio também se concentram fortemente na álgebra linear, portanto, se você estiver menos familiarizado com os conceitos de álgebra linear, recomendamos que pule esta parte.\n",
    "\n",
    "Além disso, o Python tem suporte incrível a bibliotecas para trabalhar com esses conceitos matemáticos através de um pacote chamado `numpy`, então quase nunca escreveremos código de álgebra linear do zero."
   ]
  },
  {
   "cell_type": "markdown",
   "metadata": {},
   "source": [
    "#### Produto Escalar\n",
    "\n",
    "Em uma linha de Python, escreva um código capaz de executar o produto de duas listas `u` e` v`. Você pode assumir que as listas são do mesmo tamanho e são listas padrão do Python (nada de especial, como `numpy.ndarray`s). Por exemplo, `dot_product ([1, 3, 5], [2, 4, 6])` deve retornar `44` (desde` 1 * 2 + 3 * 4 + 5 * 6 = 44`)."
   ]
  },
  {
   "cell_type": "code",
   "execution_count": null,
   "metadata": {},
   "outputs": [],
   "source": [
    "def dot_product(u, v):\n",
    "    \"\"\"Return the dot product of two equal-length lists of numbers.\"\"\"\n",
    "    pass"
   ]
  },
  {
   "cell_type": "markdown",
   "metadata": {},
   "source": [
    "#### Transposição Matricial\n",
    "\n",
    "Escreva uma linha de Python para transpor uma matriz. Suponha que a matriz de entrada seja uma tupla-de-tupla que represente uma matriz válida, não necessariamente quadrada. Novamente, não use `numpy` ou qualquer outra biblioteca - apenas manipulação de estrutura de dados bruta e nossas ferramentas funcionais.\n",
    "\n",
    "Não só você pode fazer isso em uma linha - você pode até fazer em 14 caracteres!\n",
    "\n",
    "Por exemplo,\n",
    "\n",
    "```Python\n",
    "matrix = (\n",
    "    (1, 2, 3, 4),\n",
    "    (5, 6, 7, 8),\n",
    "    (9,10,11,12)\n",
    ")\n",
    "\n",
    "transpose(matrix)\n",
    "# returns \n",
    "# (\n",
    "#     (1, 5, 9),\n",
    "#     (2, 6, 10),\n",
    "#     (3, 7, 11),\n",
    "#     (4, 8, 12)\n",
    "# )\n",
    "```\n"
   ]
  },
  {
   "cell_type": "code",
   "execution_count": 17,
   "metadata": {},
   "outputs": [],
   "source": [
    "def transpose(m):\n",
    "    \"\"\"Return the transpose of a matrix represented as a rectangular tuple-of-tuples.\"\"\"\n",
    "    pass"
   ]
  },
  {
   "cell_type": "markdown",
   "metadata": {},
   "source": [
    "## Expressões Geradoras\n",
    "\n",
    "Lembre-se de que as expressões geradoras são uma maneira de calcular valores preguiçosamente em tempo real (lazy loading), sem armazenar em buffer todo o conteúdo da lista.\n",
    "\n",
    "Para cada um dos cenários a seguir, discuta com um parceiro se seria mais apropriado usar uma expressão de gerador ou uma compreensão de lista:\n",
    "\n",
    "1. Procurando por uma determinada entidade nas entradas transformadas de um banco de dados de 1 TB (grande!).\n",
    "2. Calcule passagens aéreas baratas usando muitas informações de voo de viagem até o destino.\n",
    "3. Encontrar o primeiro número de Fibonacci palíndricos maior que 1.000.000.\n",
    "4. Determine todos os anagramas de várias palavras de strings de 1000 caracteres ou mais fornecidas pelo usuário (muito caras para fazer).\n",
    "5. Gere uma lista de nomes de alunos de Stanford cujos números de ID da SUNet sejam menores que 5000000.\n",
    "6. Retorne uma lista de todas as startups dentro de 50 milhas de Stanford.\n",
    "\n",
    "O principal objetivo é: se você só precisa olhar para um elemento do fluxo de dados por vez, as expressões geradoras são provavelmente o caminho a percorrer."
   ]
  },
  {
   "cell_type": "markdown",
   "metadata": {},
   "source": [
    "## Generators"
   ]
  },
  {
   "cell_type": "markdown",
   "metadata": {},
   "source": [
    "### Gerador Triângulo\n",
    "\n",
    "Escreva um gerador infinito que sucessivamente forneça os números triângulo `0, 1, 3, 6, 10, ...` que são formados pela adição sucessiva de inteiros positivos sequenciais (`3 = 1 + 2`,` 6 = 1 + 2 + 3`, `10 = 1 + 2 + 3 + 4`, ...)."
   ]
  },
  {
   "cell_type": "code",
   "execution_count": null,
   "metadata": {},
   "outputs": [],
   "source": [
    "def generate_triangles():\n",
    "    \"\"\"Generate an infinite stream of triangle numbers.\"\"\"\n",
    "    pass  # Your implementation here\n",
    "\n",
    "g = generate_triangles()\n",
    "# Print the first 5 generated triangle numbers. Should be 0, 1, 3, 6, 10\n",
    "for _ in range(5):\n",
    "    print(next(g))"
   ]
  },
  {
   "cell_type": "markdown",
   "metadata": {},
   "source": [
    "Use o seu gerador para escrever uma função `triangles_under (n)` que imprime todos os números triângulo estritamente menores que o parâmetro `n`."
   ]
  },
  {
   "cell_type": "code",
   "execution_count": null,
   "metadata": {},
   "outputs": [],
   "source": [
    "def triangles_under(n):\n",
    "    \"\"\"Print all triangle numbers less than an upper bound.\"\"\"\n",
    "    pass\n",
    "\n",
    "triangles_under(1000)"
   ]
  },
  {
   "cell_type": "markdown",
   "metadata": {},
   "source": [
    "## Funções aninhadas e Closures\n",
    "\n",
    "Na aula, vimos que uma função pode ser definida dentro do escopo de outra função. Lembre-se de que as funções introduzem novos escopos através de uma nova tabela de símbolos locais. Uma função interna está apenas no escopo dentro da função externa, portanto, esse tipo de definição de função é normalmente usado somente quando a função interna está sendo retornada para o mundo externo.\n",
    "\n",
    "```Python\n",
    "def outer():\n",
    "    def inner(a):\n",
    "        return a\n",
    "    return inner\n",
    "\n",
    "f = outer()\n",
    "print(f)  # <function outer.<locals>.inner at 0x1044b61e0>\n",
    "print(f(10))  # => 10\n",
    "\n",
    "f2 = outer()\n",
    "print(f2)  # <function outer.<locals>.inner at 0x1044b6268> (Different from above!)\n",
    "print(f2(11))  # => 11\n",
    "```\n",
    "\n",
    "Por que os endereços de memória são diferentes para `f` e` f2`? Discutir com um parceiro."
   ]
  },
  {
   "cell_type": "code",
   "execution_count": null,
   "metadata": {},
   "outputs": [],
   "source": [
    "def outer():\n",
    "    def inner(a):\n",
    "        return a\n",
    "    return inner\n",
    "\n",
    "f = outer()\n",
    "print(f)  # <function outer.<locals>.inner at 0x1044b61e0>\n",
    "print(f(10))  # => 10\n",
    "\n",
    "f2 = outer()\n",
    "print(f2)  # <function outer.<locals>.inner at 0x1044b6268> (Different from above!)\n",
    "print(f2(11))  # => 11"
   ]
  },
  {
   "cell_type": "markdown",
   "metadata": {},
   "source": [
    "### Closure\n",
    "\n",
    "Como vimos acima, a definição da função interna ocorre durante a execução da função externa. Isso implica que uma função aninhada tenha acesso ao ambiente no qual ela foi definida. Portanto, é possível retornar uma função interna que lembra o conteúdo da função externa, mesmo após a conclusão da execução da função externa. Esse modelo é chamado de Closure (fechamento).\n",
    "\n",
    "```Python\n",
    "def make_adder(n):\n",
    "    def add_n(m):  # Captures the outer variable `n` in a closure\n",
    "        return m + n\n",
    "    return add_n\n",
    "\n",
    "add1 = make_adder(1)\n",
    "print(add1)  # <function make_adder.<locals>.add_n at 0x103edf8c8>\n",
    "add1(4)  # => 5\n",
    "add1(5)  # => 6\n",
    "\n",
    "add2 = make_adder(2)\n",
    "print(add2)  # <function make_adder.<locals>.add_n at 0x103ecbf28>\n",
    "add2(4)  # => 6\n",
    "add2(5)  # => 7\n",
    "```\n",
    "\n",
    "As informações em um fechamento estão disponíveis no atributo `__closure__` da função. Por exemplo:\n",
    "\n",
    "```Python\n",
    "closure = add1.__closure__\n",
    "cell0 = closure[0]\n",
    "cell0.cell_contents  # => 1 (this is the n = 1 passed into make_adder)\n",
    "``` \n",
    "\n",
    "Como outro exemplo, considere a função:\n",
    "\n",
    "```Python\n",
    "def foo(a, b, c=-1, *d, e=-2, f=-3, **g):\n",
    "    def wraps():\n",
    "        print(a, c, e, g)\n",
    "    return wraps\n",
    "``` \n",
    "\n",
    "A chamada `print` induz um fechamento de` wraps` sobre `a`,` c`, `e`,` g` do escopo de inclusão de `foo`. Ou, você pode imaginar que `wraps` \"sabe\" que vai precisar de `a`,` c`, `e` e` g` do escopo incluído, então, no momento em que o \"wraps\" é definido, o Python faz um \"screenshot \"destas variáveis do escopo incluído e armazena referências aos objetos subjacentes no atributo` __closure__` da função \"wraps\".\n",
    "\n",
    "```Python\n",
    "w = foo(1, 2, 3, 4, 5, e=6, f=7, y=2, z=3)\n",
    "list(map(lambda cell: cell.cell_contents, w.__closure__))\n",
    "# => [1, 3, 6, {'y': 2, 'z': 3}]\n",
    "```\n",
    "\n",
    "O que acontece na seguinte situação? Por quê?\n",
    "\n",
    "```Python\n",
    "def outer(l):\n",
    "    def inner(n):\n",
    "        return l * n\n",
    "    return inner\n",
    "    \n",
    "l = [1, 2, 3]\n",
    "f = outer(l)\n",
    "print(f(3))  # => ??\n",
    "\n",
    "l.append(4)\n",
    "print(f(3))  # => ??\n",
    "```"
   ]
  },
  {
   "cell_type": "code",
   "execution_count": 18,
   "metadata": {},
   "outputs": [
    {
     "name": "stdout",
     "output_type": "stream",
     "text": [
      "[1, 2, 3, 1, 2, 3, 1, 2, 3]\n",
      "[1, 2, 3, 4, 1, 2, 3, 4, 1, 2, 3, 4]\n"
     ]
    }
   ],
   "source": [
    "def outer(l):\n",
    "    def inner(n):\n",
    "        return l * n\n",
    "    return inner\n",
    "    \n",
    "l = [1, 2, 3]\n",
    "f = outer(l)\n",
    "print(f(3))  # => ??\n",
    "\n",
    "l.append(4)\n",
    "print(f(3))  # => ??"
   ]
  },
  {
   "cell_type": "markdown",
   "metadata": {},
   "source": [
    "## Construindo Decorators\n",
    "\n",
    "Lembre-se de que um decorator é um tipo especial de função que aceita uma função como um argumento e retorna uma nova função que (geralmente) envolve um pouco do comportamento da função fornecida.\n",
    "\n",
    "Além disso, lembre-se de que a sintaxe `@decorator` é o syntactic sugar.\n",
    "\n",
    "```Python\n",
    "@decorator\n",
    "def fn():\n",
    "    pass\n",
    "```\n",
    "\n",
    "é equivalente a\n",
    "\n",
    "```Python\n",
    "def fn():\n",
    "    pass\n",
    "fn = decorator(fn)\n",
    "```\n"
   ]
  },
  {
   "cell_type": "markdown",
   "metadata": {},
   "source": [
    "### Review\n",
    "\n",
    "Nos slides, implementamos o decorador `debug`.\n",
    "\n",
    "```Python\n",
    "def debug(function):\n",
    "    def wrapper(*args, **kwargs):\n",
    "        print(\"Arguments:\", args, kwargs)\n",
    "        return function(*args, **kwargs)\n",
    "    return wrapper\n",
    "```\n",
    "\n",
    "Tome um momento, com um parceiro, e certifique-se de entender o que está acontecendo nas linhas acima. Por que os argumentos para wrapper na segunda linha `*args` e` **kwargs` em vez de outra coisa? O que aconteceria se não \"retornássemos o wrapper\" no final do corpo da função?"
   ]
  },
  {
   "cell_type": "markdown",
   "metadata": {},
   "source": [
    "### Cache Automático\n",
    "\n",
    "Escreva um decorator `cache` que armazenará automaticamente todas as chamadas para a função decorada. Você pode assumir que todos os argumentos passados para a função decorada serão sempre tipos hashable.\n",
    "\n",
    "```Python\n",
    "def cache(function):\n",
    "    pass  # Your implementation here\n",
    "```\n",
    "\n",
    "No pseudocódigo, para conseguir isso, você\n",
    "\n",
    "```\n",
    "seja uma função f\n",
    "construir uma nova função g: quando chamada com alguns argumentos ... então\n",
    "     se já vimos esses argumentos antes:\n",
    "         retornar um resultado salvo para esses argumentos\n",
    "     de outra forma:\n",
    "         calcular e retornar o resultado de chamar f com esses argumentos e salvar o resultado em alguma estrutura de dados\n",
    "retorno g\n",
    "```\n",
    "\n",
    "Por exemplo, você deve poder usar este decorador da seguinte maneira:\n",
    "\n",
    "```Python\n",
    "@cache\n",
    "def fib(n):\n",
    "    return fib(n-1) + fib(n-2) if n > 2 else 1\n",
    "\n",
    "fib(10)  # 55 (takes a moment to execute)\n",
    "fib(10)  # 55 (returns immediately)\n",
    "fib(100) # doesn't take forever\n",
    "fib(400) # doesn't raise RuntimeError\n",
    "```\n",
    "\n",
    "Dica: você pode definir atributos arbitrários em uma função (por exemplo, `fn._cache`). Quando você faz isso, o par de valores de atributos também é inserido em `fn .__ dict__`. Dê uma olhada por si mesmo. Os atributos extras e `.__ dict__` estão sempre sincronizados?"
   ]
  },
  {
   "cell_type": "markdown",
   "metadata": {},
   "source": [
    "## Créditos\n",
    "\n",
    "O crédito vai para muitos sites, cujos nomes eu infelizmente esqueci ao longo do caminho. Crédito para todos!"
   ]
  },
  {
   "cell_type": "markdown",
   "metadata": {},
   "source": [
    "> With <3 by @sredmond"
   ]
  }
 ],
 "metadata": {
  "kernelspec": {
   "display_name": "Python 3",
   "language": "python",
   "name": "python3"
  },
  "language_info": {
   "codemirror_mode": {
    "name": "ipython",
    "version": 3
   },
   "file_extension": ".py",
   "mimetype": "text/x-python",
   "name": "python",
   "nbconvert_exporter": "python",
   "pygments_lexer": "ipython3",
   "version": "3.7.3"
  }
 },
 "nbformat": 4,
 "nbformat_minor": 2
}
